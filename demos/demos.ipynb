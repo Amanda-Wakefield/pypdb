{
 "cells": [
  {
   "cell_type": "markdown",
   "metadata": {},
   "source": [
    "# pypdb demos\n",
    "\n",
    "This is a set of basic examples of the usage and outputs of the various individual functions included in. There are generally two types of functions:\n",
    "\n",
    "+ Functions that perform searches and return lists of PDB IDs\n",
    "+ Functions that get information about specific PDB IDs\n",
    "\n",
    "The list of supported search types, as well as the different types of information that can be returned for a given PDB ID, is large (and growing) and is enumerated completely in the docstrings of pypdb.py. The PDB allows a very wide range of different types of queries, and so any option that is not currently available can likely be implemented pretty easily based on the structure of the query types that have already been implemented. I appreciate any feedback and pull requests.\n",
    "\n",
    "**Another notebook in this directory, advanced_demos.ipynb, includes more in-depth usages of multiple functions, including the tutorial on graphing the popularity of CRISPR that was originally included in this notebook**"
   ]
  },
  {
   "cell_type": "markdown",
   "metadata": {},
   "source": [
    "### Preamble"
   ]
  },
  {
   "cell_type": "code",
   "execution_count": 1,
   "metadata": {
    "collapsed": false
   },
   "outputs": [
    {
     "name": "stdout",
     "output_type": "stream",
     "text": [
      "Populating the interactive namespace from numpy and matplotlib\n"
     ]
    }
   ],
   "source": [
    "%pylab inline\n",
    "from IPython.display import HTML\n",
    "\n",
    "# from pypdb.pypdb import *\n",
    "from pypdb import *\n",
    "\n",
    "import pprint"
   ]
  },
  {
   "cell_type": "markdown",
   "metadata": {},
   "source": [
    "# 1. Search functions that return lists of PDB IDs"
   ]
  },
  {
   "cell_type": "markdown",
   "metadata": {},
   "source": [
    "### Get a list of PDBs for a specific search term"
   ]
  },
  {
   "cell_type": "code",
   "execution_count": 2,
   "metadata": {
    "collapsed": false
   },
   "outputs": [
    {
     "name": "stdout",
     "output_type": "stream",
     "text": [
      "['1D7M', '3W3D', '4A7H', '4A7L', '4A7N']\n"
     ]
    }
   ],
   "source": [
    "search_dict = make_query('actin network')\n",
    "found_pdbs = do_search(search_dict)\n",
    "print(found_pdbs)"
   ]
  },
  {
   "cell_type": "markdown",
   "metadata": {},
   "source": [
    "### Search by PubMed ID Number"
   ]
  },
  {
   "cell_type": "code",
   "execution_count": 1,
   "metadata": {
    "collapsed": false
   },
   "outputs": [
    {
     "data": {
      "text/plain": [
       "['5IMT', '5IMW', '5IMY']"
      ]
     },
     "execution_count": 1,
     "metadata": {},
     "output_type": "execute_result"
    }
   ],
   "source": [
    "search_dict = make_query('27499440','PubmedIdQuery')\n",
    "found_pdbs = do_search(search_dict)\n",
    "print(found_pdbs)"
   ]
  },
  {
   "cell_type": "markdown",
   "metadata": {},
   "source": [
    "### Search by a specific modified structure"
   ]
  },
  {
   "cell_type": "code",
   "execution_count": 3,
   "metadata": {
    "collapsed": false
   },
   "outputs": [
    {
     "name": "stdout",
     "output_type": "stream",
     "text": [
      "['1DGI', '1FYD', '1JL0', '2MM3', '2MS4', '2N6B', '3JAJ', '3JAN', '3JC1', '3WP8', '3WPA', '3WPO', '3WPP', '3WPR', '3WQA', '3X2L', '3X2M', '3X3F', '4I79', '4UW7', '4UW8', '4WVM', '4WYN', '4WYP', '4WYZ', '4XB4', '4XJV', '4XM6', '4XM7', '4XM8', '4XRT', '4XRW', '4YI8', '4YI9', '4YXX', '4YXY', '4YXZ', '4YY2', '4YY5', '4Z8N', '4ZKQ', '4ZLT', '4ZTX', '4ZTY', '5AQ5', '5BV8', '5BVL', '5BW8', '5BWK', '5BYO', '5C10', '5C12', '5C15', '5C2D', '5C2F', '5CCK', '5CMA', '5CQZ', '5CTM', '5CTN', '5CWB', '5CWC', '5CWD', '5CWF', '5CWG', '5CWH', '5CWI', '5CWJ', '5CWK', '5CWL', '5CWM', '5CWN', '5CWO', '5CWP', '5CWQ', '5CYN', '5D0I', '5D0K', '5D0M', '5D1K', '5D1L', '5D1M', '5D5H', '5DCA', '5DCU', '5DCW', '5DCY', '5DF1', '5DIY', '5DJS', '5DLM', '5DPK', '5DSV', '5DT1', '5E1E', '5E1L', '5E29', '5E3P', '5E3Q', '5E3R', '5E47', '5E4R', '5E8G', '5E8I', '5EC6', '5ECG', '5EE2', '5EE4', '5EK0', '5EPJ', '5F0A', '5F0D']\n"
     ]
    }
   ],
   "source": [
    "search_dict = make_query('3W3D',querytype='ModifiedStructuresQuery')\n",
    "found_pdbs = do_search(search_dict)\n",
    "print(found_pdbs)"
   ]
  },
  {
   "cell_type": "markdown",
   "metadata": {},
   "source": [
    "### Search by Author"
   ]
  },
  {
   "cell_type": "code",
   "execution_count": 4,
   "metadata": {
    "collapsed": false
   },
   "outputs": [
    {
     "name": "stdout",
     "output_type": "stream",
     "text": [
      "['1CQ4', '1FDH', '1GDJ', '1HDA', '1PBX', '2DHB', '2GDM', '2HHB', '2MHB', '3HHB', '4HHB']\n"
     ]
    }
   ],
   "source": [
    "search_dict = make_query('Perutz, M.F.',querytype='AdvancedAuthorQuery')\n",
    "found_pdbs = do_search(search_dict)\n",
    "print(found_pdbs)"
   ]
  },
  {
   "cell_type": "markdown",
   "metadata": {},
   "source": [
    "### Search by Motif"
   ]
  },
  {
   "cell_type": "code",
   "execution_count": 5,
   "metadata": {
    "collapsed": false
   },
   "outputs": [
    {
     "name": "stdout",
     "output_type": "stream",
     "text": [
      "['EZ:1', '3SGH:1', '4F47:1']\n"
     ]
    }
   ],
   "source": [
    "search_dict = make_query('T[AG]AGGY',querytype='MotifQuery')\n",
    "found_pdbs = do_search(search_dict)\n",
    "print(found_pdbs)"
   ]
  },
  {
   "cell_type": "markdown",
   "metadata": {},
   "source": [
    "### Search by a specific experimental method"
   ]
  },
  {
   "cell_type": "code",
   "execution_count": 6,
   "metadata": {
    "collapsed": false
   },
   "outputs": [
    {
     "name": "stdout",
     "output_type": "stream",
     "text": [
      "['1CEK', '1EQ8', '1M8M', '1MAG', '1MP6', '1MZT', '1NH4', '1NYJ', '1PI7', '1PI8', '1PJD', '1PJE', '1PJF', '1Q7O', '1RVS', '1XSW', '1ZN5', '1ZY6', '2C0X', '2CZP', '2E8D', '2H3O', '2H95', '2JSV', '2JU6', '2JZZ', '2K0P', '2KAD', '2KB7', '2KHT', '2KIB', '2KJ3', '2KLR', '2KQ4', '2KQT', '2KRJ', '2KSJ', '2KWD', '2KYV', '2L0J', '2L3Z', '2LBU', '2LEG', '2LGI', '2LJ2', '2LME', '2LMN', '2LMO', '2LMP', '2LMQ', '2LNL', '2LNQ', '2LNY', '2LPZ', '2LTQ', '2LU5', '2M02', '2M3B', '2M3G', '2M4J', '2M5K', '2M5M', '2M5N', '2M67', '2MC7', '2MCU', '2MCV', '2MCW', '2MCX', '2MEX', '2MJZ', '2MME', '2MMU', '2MPX', '2MPZ', '2MS7', '2MSG', '2MTZ', '2MVX', '2MXU', '2N0R', '2N1E', '2N1F', '2N28', '2N3D', '2N7H', '2NNT', '2RLZ', '2UVS', '2W0N', '2XKM', '3ZPK']\n"
     ]
    }
   ],
   "source": [
    "search_dict = make_query('SOLID-STATE NMR',querytype='ExpTypeQuery')\n",
    "found_pdbs = do_search(search_dict)\n",
    "print(found_pdbs)"
   ]
  },
  {
   "cell_type": "markdown",
   "metadata": {},
   "source": [
    "### Search by whether it has free ligands"
   ]
  },
  {
   "cell_type": "code",
   "execution_count": 7,
   "metadata": {
    "collapsed": false
   },
   "outputs": [
    {
     "name": "stdout",
     "output_type": "stream",
     "text": [
      "['100D', '101D', '101M', '102D', '102L', '102M', '103L', '103M', '104M', '105M']\n"
     ]
    }
   ],
   "source": [
    "search_dict = make_query('', querytype='NoLigandQuery')\n",
    "found_pdbs = do_search(search_dict)\n",
    "print(found_pdbs[:10])"
   ]
  },
  {
   "cell_type": "markdown",
   "metadata": {},
   "source": [
    "### Search by protein symmetry group"
   ]
  },
  {
   "cell_type": "code",
   "execution_count": 8,
   "metadata": {
    "collapsed": false
   },
   "outputs": [
    {
     "name": "stdout",
     "output_type": "stream",
     "text": [
      "['1KZU', '1NKZ', '2FKW', '3B8M', '3B8N']\n"
     ]
    }
   ],
   "source": [
    "kk = do_protsym_search('C9', min_rmsd=0.0, max_rmsd=1.0)\n",
    "print(kk[:5])"
   ]
  },
  {
   "cell_type": "markdown",
   "metadata": {},
   "source": [
    "# Information Search functions"
   ]
  },
  {
   "cell_type": "markdown",
   "metadata": {},
   "source": [
    "While the basic functions described in the previous section are useful for looking up and manipulating individual unique entries, these functions are intended to be more user-facing: they take search keywords and return lists of authors or dates"
   ]
  },
  {
   "cell_type": "markdown",
   "metadata": {},
   "source": [
    "### Find most common authors for a given keyword"
   ]
  },
  {
   "cell_type": "code",
   "execution_count": 10,
   "metadata": {
    "collapsed": false
   },
   "outputs": [
    {
     "name": "stdout",
     "output_type": "stream",
     "text": [
      "['Doudna, J.A.', 'Jinek, M.', 'Li, H.', 'Savchenko, A.', 'Zhou, K.']\n"
     ]
    }
   ],
   "source": [
    "top_authors = find_authors('crispr',max_results=100)\n",
    "pprint.pprint(top_authors[:5])"
   ]
  },
  {
   "cell_type": "markdown",
   "metadata": {},
   "source": [
    "### Find papers for a given keyword"
   ]
  },
  {
   "cell_type": "code",
   "execution_count": 11,
   "metadata": {
    "collapsed": false
   },
   "outputs": [
    {
     "name": "stdout",
     "output_type": "stream",
     "text": [
      "['Crystal structure of a CRISPR-associated protein from thermus thermophilus',\n",
      " 'Crystal structure of a hypothetical protein TT1823 from Thermus '\n",
      " 'thermophilus',\n",
      " 'Hypothetical protein PF1117 from Pyrococcus furiosus']\n"
     ]
    }
   ],
   "source": [
    "matching_papers = find_papers('crispr',max_results=3)\n",
    "pprint.pprint(matching_papers)"
   ]
  },
  {
   "cell_type": "markdown",
   "metadata": {},
   "source": [
    "# 2. Functions that return information about single PDB entries"
   ]
  },
  {
   "cell_type": "markdown",
   "metadata": {},
   "source": [
    "### Get the full PDB file"
   ]
  },
  {
   "cell_type": "code",
   "execution_count": 24,
   "metadata": {
    "collapsed": false,
    "scrolled": true
   },
   "outputs": [
    {
     "name": "stdout",
     "output_type": "stream",
     "text": [
      "data_4LZA\n",
      "# \n",
      "_entry.id   4LZA \n",
      "# \n",
      "_audit_conform.dict_name       mmcif_pdbx.dic \n",
      "_audit_conform.dict_version    4.032 \n",
      "_audit_conform.dict_location   http://mmcif.pdb.org/dictionaries/ascii/mmcif_pdbx\n"
     ]
    }
   ],
   "source": [
    "pdb_file = get_pdb_file('4lza', filetype='cif', compression=True)\n",
    "print(pdb_file[:200])"
   ]
  },
  {
   "cell_type": "markdown",
   "metadata": {},
   "source": [
    "### Get a general description of the entry's metadata"
   ]
  },
  {
   "cell_type": "code",
   "execution_count": 4,
   "metadata": {
    "collapsed": false
   },
   "outputs": [
    {
     "data": {
      "text/plain": [
       "{'citation_authors': 'Malashkevich, V.N., Bhosle, R., Toro, R., Hillerich, B., Gizzi, A., Garforth, S., Kar, A., Chan, M.K., Lafluer, J., Patel, H., Matikainen, B., Chamala, S., Lim, S., Celikgil, A., Villegas, G., Evans, B., Love, J., Fiser, A., Khafizov, K., Seidel, R., Bonanno, J.B., Almo, S.C.',\n",
       " 'deposition_date': '2013-07-31',\n",
       " 'expMethod': 'X-RAY DIFFRACTION',\n",
       " 'keywords': 'TRANSFERASE',\n",
       " 'last_modification_date': '2013-08-14',\n",
       " 'nr_atoms': '0',\n",
       " 'nr_entities': '1',\n",
       " 'nr_residues': '390',\n",
       " 'release_date': '2013-08-14',\n",
       " 'resolution': '1.84',\n",
       " 'status': 'CURRENT',\n",
       " 'structureId': '4LZA',\n",
       " 'structure_authors': 'Malashkevich, V.N., Bhosle, R., Toro, R., Hillerich, B., Gizzi, A., Garforth, S., Kar, A., Chan, M.K., Lafluer, J., Patel, H., Matikainen, B., Chamala, S., Lim, S., Celikgil, A., Villegas, G., Evans, B., Love, J., Fiser, A., Khafizov, K., Seidel, R., Bonanno, J.B., Almo, S.C., New York Structural Genomics Research Consortium (NYSGRC)',\n",
       " 'title': 'Crystal structure of adenine phosphoribosyltransferase from Thermoanaerobacter pseudethanolicus ATCC 33223, NYSGRC Target 029700.'}"
      ]
     },
     "execution_count": 4,
     "metadata": {},
     "output_type": "execute_result"
    }
   ],
   "source": [
    "describe_pdb('4lza')"
   ]
  },
  {
   "cell_type": "markdown",
   "metadata": {},
   "source": [
    "### Get all of the information deposited in a PDB entry"
   ]
  },
  {
   "cell_type": "code",
   "execution_count": 12,
   "metadata": {
    "collapsed": false
   },
   "outputs": [
    {
     "name": "stdout",
     "output_type": "stream",
     "text": [
      "{'id': '4LZA', 'polymer': {'@length': '195', '@weight': '22023.9', '@type': 'protein', 'enzClass': {'@ec': '2.4.2.7'}, '@entityNr': '1', 'chain': [{'@id': 'A'}, {'@id': 'B'}], 'Taxonomy': {'@id': '496866', '@name': 'Thermoanaerobacter pseudethanolicus'}, 'polymerDescription': {'@description': 'Adenine phosphoribosyltransferase'}, 'macroMolecule': {'@name': 'Adenine phosphoribosyltransferase', 'accession': {'@id': 'B0K969'}}, 'synonym': {'@name': 'APRT'}}}\n"
     ]
    }
   ],
   "source": [
    "all_info = get_all_info('4lza')\n",
    "print(all_info)"
   ]
  },
  {
   "cell_type": "code",
   "execution_count": 9,
   "metadata": {
    "collapsed": false
   },
   "outputs": [
    {
     "data": {
      "text/plain": [
       "{'@description': \"5'-D(*AP*GP*GP*TP*AP*GP*AP*CP*CP*TP*GP*GP*AP*CP*GP*C)-3'\"}"
      ]
     },
     "execution_count": 9,
     "metadata": {},
     "output_type": "execute_result"
    }
   ],
   "source": [
    "results = get_all_info('2F5N')\n",
    "first_polymer = results['polymer'][0]\n",
    "first_polymer['polymerDescription']"
   ]
  },
  {
   "cell_type": "markdown",
   "metadata": {
    "collapsed": true
   },
   "source": [
    "### Run a BLAST search on an entry"
   ]
  },
  {
   "cell_type": "markdown",
   "metadata": {},
   "source": [
    "There are several options here: One function, get_blast(), returns a dict() just like every other function. However, all the metadata associated with this function leads to deeply-nested dictionaries. A simpler function, get_blast2(), uses text parsing on the raw output page, and it returns a tuple consisting of 1. a ranked list of other PDB IDs that were hits, and 2. A list of the actual BLAST alignments and similarity scores."
   ]
  },
  {
   "cell_type": "code",
   "execution_count": 11,
   "metadata": {
    "collapsed": false,
    "scrolled": true
   },
   "outputs": [
    {
     "name": "stdout",
     "output_type": "stream",
     "text": [
      "PELPEVETVRRELEKRIVGQKIISIEATYPRMVL--TGFEQLKKELTGKTIQGISRRGKYLIFEIGDDFRLISHLRMEGKYRLATLDAPREKHDHLTMKFADG-QLIYADVRKFGTWELISTDQVLPYFLKKKIGPEPTYEDFDEKLFREKLRKSTKKIKPYLLEQTLVAGLGNIYVDEVLWLAKIHPEKETNQLIESSIHLLHDSIIEILQKAIKLGGSSIRTY-SALGSTGKMQNELQVYGKTGEKCSRCGAEIQKIKVAGRGTHFCPVCQQ\n"
     ]
    }
   ],
   "source": [
    "blast_results = get_blast('2F5N', chain_id='A')\n",
    "just_hits = blast_results['BlastOutput_iterations']['Iteration']['Iteration_hits']['Hit']\n",
    "print(just_hits[50]['Hit_hsps']['Hsp']['Hsp_hseq'])"
   ]
  },
  {
   "cell_type": "code",
   "execution_count": 12,
   "metadata": {
    "collapsed": false,
    "scrolled": true
   },
   "outputs": [
    {
     "name": "stdout",
     "output_type": "stream",
     "text": [
      "Total Results: 84\n",
      "\n",
      "<pre>\n",
      "&gt;<a name=\"45354\"></a>2F5P:3:A|pdbid|entity|chain(s)|sequence\n",
      "          Length = 274\n",
      "\n",
      " Score =  545 bits (1404), Expect = e-155,   Method: Composition-based stats.\n",
      " Identities = 274/274 (100%), Positives = 274/274 (100%)\n",
      "\n",
      "Query: 1   MPELPEVETIRRTLLPLIVGKTIEDVRIFWPNIIRHPRDSEAFAARMIGQTVRGLERRGK 60\n",
      "           MPELPEVETIRRTLLPLIVGKTIEDVRIFWPNIIRHPRDSEAFAARMIGQTVRGLERRGK\n",
      "Sbjct: 1   MPELPEVETIRRTLLPLIVGKTIEDVRIFWPNIIRHPRDSEAFAARMIGQTVRGLERRGK 60\n",
      "\n",
      "Query: 61  FLKFLLDRDALISHLRMEGRYAVASALEPLEPHTHVVFCFTDGSELRYRDVRKFGTMHVY 120\n",
      "           FLKFLLDRDALISHLRMEGRYAVASALEPLEPHTHVVFCFTDGSELRYRDVRKFGTMHVY\n",
      "Sbjct: 61  FLKFLLDRDALISHLRMEGRYAVASALEPLEPHTHVVFCFTDGSELRYRDVRKFGTMHVY 120\n",
      "\n",
      "Query: 121 AKEEADRRPPLAELGPEPLSPAFSPAVLAERAVKTKRSVKALLLDCTVVAGFGNIYVDES 180\n",
      "           AKEEADRRPPLAELGPEPLSPAFSPAVLAERAVKTKRSVKALLLDCTVVAGFGNIYVDES\n",
      "Sbjct: 121 AKEEADRRPPLAELGPEPLSPAFSPAVLAERAVKTKRSVKALLLDCTVVAGFGNIYVDES 180\n",
      "\n",
      "Query: 181 LFRAGILPGRPAASLSSKEIERLHEEMVATIGEAVMKGGSTVRTYVNTQGEAGTFQHHLY 240\n",
      "           LFRAGILPGRPAASLSSKEIERLHEEMVATIGEAVMKGGSTVRTYVNTQGEAGTFQHHLY\n",
      "Sbjct: 181 LFRAGILPGRPAASLSSKEIERLHEEMVATIGEAVMKGGSTVRTYVNTQGEAGTFQHHLY 240\n",
      "\n",
      "Query: 241 VYGRQGNPCKRCGTPIEKTVVAGRGTHYCPRCQR 274\n",
      "           VYGRQGNPCKRCGTPIEKTVVAGRGTHYCPRCQR\n",
      "Sbjct: 241 VYGRQGNPCKRCGTPIEKTVVAGRGTHYCPRCQR 274\n",
      "</pre>\n"
     ]
    }
   ],
   "source": [
    "blast_results = get_blast2('2F5N', chain_id='A', output_form='HTML')\n",
    "print('Total Results: ' + str(len(blast_results[0])) +'\\n')\n",
    "pprint.pprint(blast_results[1][0])"
   ]
  },
  {
   "cell_type": "markdown",
   "metadata": {},
   "source": [
    "### Get PFAM information about an entry"
   ]
  },
  {
   "cell_type": "code",
   "execution_count": 37,
   "metadata": {
    "collapsed": false
   },
   "outputs": [
    {
     "name": "stdout",
     "output_type": "stream",
     "text": [
      "{'pfamHit': {'@pfamAcc': 'PF03895.10', '@pfamName': 'YadA_anchor', '@structureId': '2LME', '@pdbResNumEnd': '105', '@pdbResNumStart': '28', '@pfamDesc': 'YadA-like C-terminal region', '@eValue': '5.0E-22', '@chainId': 'A'}}\n"
     ]
    }
   ],
   "source": [
    "pfam_info = get_pfam('2LME')\n",
    "print(pfam_info)"
   ]
  },
  {
   "cell_type": "markdown",
   "metadata": {},
   "source": [
    "### Get chemical info"
   ]
  },
  {
   "cell_type": "markdown",
   "metadata": {},
   "source": [
    "This function takes the name of the chemical, not a PDB ID"
   ]
  },
  {
   "cell_type": "code",
   "execution_count": 39,
   "metadata": {
    "collapsed": false
   },
   "outputs": [
    {
     "name": "stdout",
     "output_type": "stream",
     "text": [
      "{'describeHet': {'ligandInfo': {'ligand': {'@chemicalID': 'NAG',\n",
      "                                           '@molecularWeight': '221.208',\n",
      "                                           '@type': 'D-saccharide',\n",
      "                                           'InChI': 'InChI=1S/C8H15NO6/c1-3(11)9-5-7(13)6(12)4(2-10)15-8(5)14/h4-8,10,12-14H,2H2,1H3,(H,9,11)/t4-,5-,6-,7-,8-/m1/s1',\n",
      "                                           'InChIKey': 'OVRNDRQMDRJTHS-FMDGEEDCSA-N',\n",
      "                                           'chemicalName': 'N-ACETYL-D-GLUCOSAMINE',\n",
      "                                           'formula': 'C8 H15 N O6',\n",
      "                                           'smiles': 'CC(=O)N[C@@H]1[C@H]([C@@H]([C@H](O[C@H]1O)CO)O)O'}}}}\n"
     ]
    }
   ],
   "source": [
    "chem_desc = describe_chemical('NAG')\n",
    "pprint.pprint(chem_desc)"
   ]
  },
  {
   "cell_type": "markdown",
   "metadata": {},
   "source": [
    "### Get ligand info if present\n"
   ]
  },
  {
   "cell_type": "code",
   "execution_count": 40,
   "metadata": {
    "collapsed": false
   },
   "outputs": [
    {
     "name": "stdout",
     "output_type": "stream",
     "text": [
      "{'id': '100D',\n",
      " 'ligandInfo': {'ligand': {'@chemicalID': 'SPM',\n",
      "                           '@molecularWeight': '202.34',\n",
      "                           '@structureId': '100D',\n",
      "                           '@type': 'non-polymer',\n",
      "                           'InChI': 'InChI=1S/C10H26N4/c11-5-3-9-13-7-1-2-8-14-10-4-6-12/h13-14H,1-12H2',\n",
      "                           'InChIKey': 'PFNFFQXMRSDOHW-UHFFFAOYSA-N',\n",
      "                           'chemicalName': 'SPERMINE',\n",
      "                           'formula': 'C10 H26 N4',\n",
      "                           'smiles': 'C(CCNCCCN)CNCCCN'}}}\n"
     ]
    }
   ],
   "source": [
    "ligand_dict = get_ligands('100D')\n",
    "pprint.pprint(ligand_dict)"
   ]
  },
  {
   "cell_type": "markdown",
   "metadata": {},
   "source": [
    "### Get gene ontology info"
   ]
  },
  {
   "cell_type": "code",
   "execution_count": 45,
   "metadata": {
    "collapsed": false
   },
   "outputs": [
    {
     "name": "stdout",
     "output_type": "stream",
     "text": [
      "{'@chainId': 'A',\n",
      " '@id': 'GO:0001516',\n",
      " '@structureId': '4Z0L',\n",
      " 'detail': {'@definition': 'The chemical reactions and pathways resulting '\n",
      "                           'in the formation of prostaglandins, any of a '\n",
      "                           'group of biologically active metabolites which '\n",
      "                           'contain a cyclopentane ring.',\n",
      "            '@name': 'prostaglandin biosynthetic process',\n",
      "            '@ontology': 'B',\n",
      "            '@synonyms': 'prostaglandin anabolism, prostaglandin '\n",
      "                         'biosynthesis, prostaglandin formation, '\n",
      "                         'prostaglandin synthesis'}}\n"
     ]
    }
   ],
   "source": [
    "gene_info = get_gene_onto('4Z0L ')\n",
    "pprint.pprint(gene_info['term'][0])"
   ]
  },
  {
   "cell_type": "markdown",
   "metadata": {
    "collapsed": true
   },
   "source": [
    "### Get sequence clusters by chain"
   ]
  },
  {
   "cell_type": "code",
   "execution_count": 13,
   "metadata": {
    "collapsed": false
   },
   "outputs": [
    {
     "name": "stdout",
     "output_type": "stream",
     "text": [
      "[{'@name': '3ZJB.A', '@rank': '1'},\n",
      " {'@name': '3ZJB.B', '@rank': '1'},\n",
      " {'@name': '3ZJB.C', '@rank': '1'},\n",
      " {'@name': '1CZY.A', '@rank': '2'},\n",
      " {'@name': '1CZY.B', '@rank': '2'},\n",
      " {'@name': '1CZY.C', '@rank': '2'},\n",
      " {'@name': '1D00.A', '@rank': '3'},\n",
      " {'@name': '1D00.B', '@rank': '3'},\n",
      " {'@name': '1D00.C', '@rank': '3'},\n",
      " {'@name': '1D00.D', '@rank': '3'}]\n"
     ]
    }
   ],
   "source": [
    "sclust = get_seq_cluster('2F5N.A')\n",
    "pprint.pprint(sclust['pdbChain'][:10]) # Just look at the top 10"
   ]
  },
  {
   "cell_type": "markdown",
   "metadata": {},
   "source": [
    "### Get the representative for a chain"
   ]
  },
  {
   "cell_type": "code",
   "execution_count": 46,
   "metadata": {
    "collapsed": false
   },
   "outputs": [
    {
     "name": "stdout",
     "output_type": "stream",
     "text": [
      "{'pdbChain': {'@name': '2W72.A'}}\n"
     ]
    }
   ],
   "source": [
    "clusts = get_clusters('4hhb.A')\n",
    "print(clusts)"
   ]
  },
  {
   "cell_type": "markdown",
   "metadata": {},
   "source": [
    "### List all taxa associated with a list of IDs"
   ]
  },
  {
   "cell_type": "code",
   "execution_count": 15,
   "metadata": {
    "collapsed": false
   },
   "outputs": [
    {
     "name": "stdout",
     "output_type": "stream",
     "text": [
      "['Thermus thermophilus',\n",
      " 'Thermus thermophilus',\n",
      " 'Pyrococcus furiosus',\n",
      " 'Sulfolobus solfataricus',\n",
      " 'Sulfolobus solfataricus',\n",
      " 'Sulfolobus solfataricus',\n",
      " 'Hyperthermus butylicus',\n",
      " 'unidentified phage',\n",
      " 'Archaeoglobus fulgidus',\n",
      " 'Sulfolobus solfataricus']\n"
     ]
    }
   ],
   "source": [
    "crispr_query = make_query('crispr')\n",
    "crispr_results = do_search(crispr_query)\n",
    "pprint.pprint(list_taxa(crispr_results[:10]))"
   ]
  },
  {
   "cell_type": "markdown",
   "metadata": {
    "collapsed": true
   },
   "source": [
    "### List data types with a list of IDs"
   ]
  },
  {
   "cell_type": "code",
   "execution_count": 16,
   "metadata": {
    "collapsed": false
   },
   "outputs": [
    {
     "name": "stdout",
     "output_type": "stream",
     "text": [
      "['protein', 'protein', 'protein', 'protein', 'protein']\n"
     ]
    }
   ],
   "source": [
    "crispr_query = make_query('crispr')\n",
    "crispr_results = do_search(crispr_query)\n",
    "pprint.pprint(list_types(crispr_results[:5]))"
   ]
  },
  {
   "cell_type": "code",
   "execution_count": null,
   "metadata": {
    "collapsed": true
   },
   "outputs": [],
   "source": []
  }
 ],
 "metadata": {
  "kernelspec": {
   "display_name": "Python 3",
   "language": "python",
   "name": "python3"
  },
  "language_info": {
   "codemirror_mode": {
    "name": "ipython",
    "version": 3
   },
   "file_extension": ".py",
   "mimetype": "text/x-python",
   "name": "python",
   "nbconvert_exporter": "python",
   "pygments_lexer": "ipython3",
   "version": "3.4.4"
  }
 },
 "nbformat": 4,
 "nbformat_minor": 0
}
