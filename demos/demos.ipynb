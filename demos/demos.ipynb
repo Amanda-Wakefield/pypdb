{
 "cells": [
  {
   "cell_type": "markdown",
   "metadata": {},
   "source": [
    "# pypdb demos\n",
    "\n",
    "This is a set of basic examples of the usage and outputs of the various individual functions included in. There are generally two types of functions:\n",
    "\n",
    "+ Functions that perform searches and return lists of PDB IDs\n",
    "+ Functions that get information about specific PDB IDs\n",
    "\n",
    "The list of supported search types, as well as the different types of information that can be returned for a given PDB ID, is large (and growing) and is enumerated completely in the docstrings of pypdb.py. The PDB allows a very wide range of different types of queries, and so any option that is not currently available can likely be implemented pretty easily based on the structure of the query types that have already been implemented. I appreciate any feedback and pull requests.\n",
    "\n",
    "**Another notebook in this directory, advanced_demos.ipynb, includes more in-depth usages of multiple functions, including the tutorial on graphing the popularity of CRISPR that was originally included in this notebook**"
   ]
  },
  {
   "cell_type": "markdown",
   "metadata": {},
   "source": [
    "### Preamble"
   ]
  },
  {
   "cell_type": "code",
   "execution_count": 1,
   "metadata": {},
   "outputs": [
    {
     "name": "stdout",
     "output_type": "stream",
     "text": [
      "Populating the interactive namespace from numpy and matplotlib\n"
     ]
    }
   ],
   "source": [
    "%pylab inline\n",
    "from IPython.display import HTML\n",
    "\n",
    "## Import from local directory\n",
    "import sys\n",
    "sys.path.insert(0, '../pypdb')\n",
    "from pypdb import *\n",
    "\n",
    "## Import from installed package\n",
    "# from pypdb import *\n",
    "\n",
    "import pprint"
   ]
  },
  {
   "cell_type": "markdown",
   "metadata": {},
   "source": [
    "# 1. Search functions that return lists of PDB IDs"
   ]
  },
  {
   "cell_type": "markdown",
   "metadata": {},
   "source": [
    "### Get a list of PDBs for a specific search term"
   ]
  },
  {
   "cell_type": "code",
   "execution_count": 2,
   "metadata": {},
   "outputs": [
    {
     "name": "stdout",
     "output_type": "stream",
     "text": [
      "['1D7M', '3W3D']\n"
     ]
    }
   ],
   "source": [
    "search_dict = make_query('actin network')\n",
    "found_pdbs = do_search(search_dict)\n",
    "print(found_pdbs)"
   ]
  },
  {
   "cell_type": "markdown",
   "metadata": {},
   "source": [
    "### Search by PubMed ID Number"
   ]
  },
  {
   "cell_type": "code",
   "execution_count": 3,
   "metadata": {},
   "outputs": [
    {
     "name": "stdout",
     "output_type": "stream",
     "text": [
      "['5IMT', '5IMW', '5IMY']\n"
     ]
    }
   ],
   "source": [
    "search_dict = make_query('27499440','PubmedIdQuery')\n",
    "found_pdbs = do_search(search_dict)\n",
    "print(found_pdbs)"
   ]
  },
  {
   "cell_type": "markdown",
   "metadata": {},
   "source": [
    "### Search by a specific modified structure"
   ]
  },
  {
   "cell_type": "code",
   "execution_count": 4,
   "metadata": {},
   "outputs": [
    {
     "name": "stdout",
     "output_type": "stream",
     "text": [
      "['2M53', '2RKZ', '3CAL', '4YWF', '5CCF', '5CK7', '5DIR', '5DJL', '5DJM', '5FOV', '5FOW', '5IQ5', '5IZJ', '5J5X', '5LQG', '5MMK', '5MML', '5MTA', '5MTG', '5NYS', '5NYT', '5NYU', '5OPH', '5T7R', '5XO0', '5XO1', '5YTS', '5YTT', '5YTV', '5YTX', '5YV8', '5YV9', '5YVA', '5YVB', '5YVC', '5ZKI', '5ZKJ', '5ZYX', '6AE8', '6AI0', '6AI1', '6AI2', '6AI3', '6BBT', '6BBW', '6BO4', '6BO5', '6BOF', '6BQT', '6BRB', '6BRJ', '6BSD', '6DZT', '6E0C', '6E0P', '6E55', '6E66', '6EUS', '6FMS', '6FN8', '6FOI', '6FOL', '6FON', '6FP6', '6G4B', '6G4C', '6G4D', '6G4E', '6G4F', '6GC2', '6GHB', '6GHO', '6GIV', '6GL4', '6GUA', '6GVK', '6GVL', '6GVX', '6GZV', '6H5T', '6H86', '6HAX', '6HAY', '6HAZ', '6HG7', '6HPO', '6HR2', '6HWT', '6HWU', '6HWV', '6HYC', '6I1R', '6I1Z', '6I20', '6I21', '6I22', '6I23', '6I24', '6I3M', '6I4X', '6I5J', '6I5N', '6I7T', '6IID', '6J44', '6J6J', '6J6K', '6J7J', '6J7K', '6J7L', '6J7M', '6JKN', '6JM9', '6JMA', '6JP1', '6JVV', '6JVW', '6JYV', '6MHY', '6MJ1', '6MRR', '6MRS', '6MSP', '6MTI', '6MU4', '6MU5', '6N0B', '6N12', '6N6Q', '6NBA', '6NDZ', '6NE1', '6NE2', '6NE4', '6NF4', '6NF6', '6NFY', '6NFZ', '6NG0', '6NLF', '6NLG', '6NLI', '6NLJ', '6NLK', '6NLL', '6NLM', '6NLN', '6NS9', '6NSA', '6NSB', '6NSC', '6NSD', '6NSF', '6NSG', '6NUK', '6NWA', '6NXF', '6NZ0', '6NZK', '6NZM', '6O07', '6O0K', '6O0L', '6O0M', '6O0O', '6O0P', '6O1D', '6O2U', '6O2V', '6O2W', '6O96', '6O9L', '6O9M', '6OAX', '6OAY', '6OFV', '6OG1', '6OG2', '6OG3', '6OH6', '6OH7', '6OH8', '6OHW', '6OT0', '6P4Z', '6Q38', '6Q4Q', '6Q5H', '6Q5I', '6Q5J', '6Q5K', '6Q5L', '6Q5M', '6Q5N', '6Q5O', '6Q5P', '6Q5Q', '6Q5R', '6Q5S', '6QCS', '6QCT', '6QCV', '6QCW', '6QCX', '6QZF', '6R9I', '6R9J', '6R9M', '6R9O', '6R9P', '6R9Q', '6RJH']\n"
     ]
    }
   ],
   "source": [
    "search_dict = make_query('3W3D',querytype='ModifiedStructuresQuery')\n",
    "found_pdbs = do_search(search_dict)\n",
    "print(found_pdbs)"
   ]
  },
  {
   "cell_type": "markdown",
   "metadata": {},
   "source": [
    "### Search by Author"
   ]
  },
  {
   "cell_type": "code",
   "execution_count": 5,
   "metadata": {},
   "outputs": [
    {
     "name": "stdout",
     "output_type": "stream",
     "text": [
      "['1CQ4', '1FDH', '1GDJ', '1HDA', '1PBX', '2DHB', '2GDM', '2HHB', '2MHB', '3HHB', '4HHB']\n"
     ]
    }
   ],
   "source": [
    "search_dict = make_query('Perutz, M.F.',querytype='AdvancedAuthorQuery')\n",
    "found_pdbs = do_search(search_dict)\n",
    "print(found_pdbs)"
   ]
  },
  {
   "cell_type": "markdown",
   "metadata": {},
   "source": [
    "### Search by Motif"
   ]
  },
  {
   "cell_type": "code",
   "execution_count": 6,
   "metadata": {},
   "outputs": [
    {
     "name": "stdout",
     "output_type": "stream",
     "text": [
      "['3LEZ', '3SGH:1', '4F47:1']\n"
     ]
    }
   ],
   "source": [
    "search_dict = make_query('T[AG]AGGY',querytype='MotifQuery')\n",
    "found_pdbs = do_search(search_dict)\n",
    "print(found_pdbs)"
   ]
  },
  {
   "cell_type": "markdown",
   "metadata": {},
   "source": [
    "### Search by a specific experimental method"
   ]
  },
  {
   "cell_type": "code",
   "execution_count": 7,
   "metadata": {},
   "outputs": [
    {
     "name": "stdout",
     "output_type": "stream",
     "text": [
      "['1CEK', '1EQ8', '1M8M', '1MAG', '1MP6', '1MZT', '1NH4', '1NYJ', '1PI7', '1PI8', '1PJD', '1PJE', '1PJF', '1Q7O', '1RVS', '1XSW', '1ZN5', '1ZY6', '2C0X', '2CZP', '2E8D', '2H3O', '2H95', '2JSV', '2JU6', '2JZZ', '2K0P', '2KAD', '2KB7', '2KHT', '2KIB', '2KJ3', '2KLR', '2KQ4', '2KQT', '2KRJ', '2KSJ', '2KWD', '2KYV', '2L0J', '2L3Z', '2LBU', '2LEG', '2LGI', '2LJ2', '2LME', '2LMN', '2LMO', '2LMP', '2LMQ', '2LNL', '2LNQ', '2LNY', '2LPZ', '2LTQ', '2LU5', '2M02', '2M3B', '2M3G', '2M4J', '2M5K', '2M5M', '2M5N', '2M67', '2MC7', '2MCU', '2MCV', '2MCW', '2MCX', '2MEX', '2MJZ', '2MME', '2MMU', '2MPX', '2MPZ', '2MS7', '2MSG', '2MTZ', '2MVX', '2MXU', '2N0A', '2N0R', '2N1E', '2N1F', '2N28', '2N3D', '2N70', '2N7H', '2NNT', '2RLZ', '2UVS', '2W0N', '2XKM', '3J07', '3ZPK', '5IRT', '5JR0', '5JXV', '5JZR', '5KK3', '5LCB', '5MWV', '5UGK', '5UK6', '5V7Z', '5W3N', '6DLN', '6EKA', '6EWU', '6F3K', '6F3V', '6F3W', '6F3X', '6F3Y', '6GVT', '6NZN', '6OC9', '6QEB']\n"
     ]
    }
   ],
   "source": [
    "search_dict = make_query('SOLID-STATE NMR',querytype='ExpTypeQuery')\n",
    "found_pdbs = do_search(search_dict)\n",
    "print(found_pdbs)"
   ]
  },
  {
   "cell_type": "markdown",
   "metadata": {},
   "source": [
    "### Search by whether it has free ligands"
   ]
  },
  {
   "cell_type": "code",
   "execution_count": 8,
   "metadata": {},
   "outputs": [
    {
     "name": "stdout",
     "output_type": "stream",
     "text": [
      "['100D', '101D', '101M', '102D', '102L', '102M', '103L', '103M', '104M', '105M']\n"
     ]
    }
   ],
   "source": [
    "search_dict = make_query('', querytype='NoLigandQuery')\n",
    "found_pdbs = do_search(search_dict)\n",
    "print(found_pdbs[:10])"
   ]
  },
  {
   "cell_type": "markdown",
   "metadata": {},
   "source": [
    "### Search by protein symmetry group"
   ]
  },
  {
   "cell_type": "code",
   "execution_count": 9,
   "metadata": {},
   "outputs": [
    {
     "name": "stdout",
     "output_type": "stream",
     "text": [
      "['1KZU', '1NKZ', '2FKW', '3B8M', '3B8N']\n"
     ]
    }
   ],
   "source": [
    "kk = do_protsym_search('C9', min_rmsd=0.0, max_rmsd=1.0)\n",
    "print(kk[:5])"
   ]
  },
  {
   "cell_type": "markdown",
   "metadata": {},
   "source": [
    "# Information Search functions"
   ]
  },
  {
   "cell_type": "markdown",
   "metadata": {},
   "source": [
    "While the basic functions described in the previous section are useful for looking up and manipulating individual unique entries, these functions are intended to be more user-facing: they take search keywords and return lists of authors or dates"
   ]
  },
  {
   "cell_type": "markdown",
   "metadata": {},
   "source": [
    "### Find most common authors for a given keyword"
   ]
  },
  {
   "cell_type": "code",
   "execution_count": 10,
   "metadata": {},
   "outputs": [
    {
     "name": "stdout",
     "output_type": "stream",
     "text": [
      "['Doudna, J.A.', 'Jinek, M.', 'Li, H.', 'Nam, K.H.', 'Ke, A.']\n"
     ]
    }
   ],
   "source": [
    "top_authors = find_authors('crispr', max_results=100)\n",
    "pprint.pprint(top_authors[:5])"
   ]
  },
  {
   "cell_type": "markdown",
   "metadata": {},
   "source": [
    "### Find papers for a given keyword"
   ]
  },
  {
   "cell_type": "code",
   "execution_count": 11,
   "metadata": {},
   "outputs": [
    {
     "name": "stdout",
     "output_type": "stream",
     "text": [
      "['Crystal structure of a CRISPR-associated protein from thermus thermophilus',\n",
      " 'Crystal structure of hypothetical protein sso1404 from Sulfolobus '\n",
      " 'solfataricus P2',\n",
      " 'NMR solution structure of a CRISPR repeat binding protein']\n"
     ]
    }
   ],
   "source": [
    "matching_papers = find_papers('crispr',max_results=3)\n",
    "pprint.pprint(matching_papers)"
   ]
  },
  {
   "cell_type": "markdown",
   "metadata": {},
   "source": [
    "# 2. Functions that return information about single PDB entries"
   ]
  },
  {
   "cell_type": "markdown",
   "metadata": {},
   "source": [
    "### Get the full PDB file"
   ]
  },
  {
   "cell_type": "code",
   "execution_count": 14,
   "metadata": {
    "scrolled": true
   },
   "outputs": [
    {
     "name": "stdout",
     "output_type": "stream",
     "text": [
      "data_4LZA\n",
      "# \n",
      "_entry.id   4LZA \n",
      "# \n",
      "_audit_conform.dict_name       mmcif_pdbx.dic \n",
      "_audit_conform.dict_version    5.281 \n",
      "_audit_conform.dict_location   http://mmcif.pdb.org/dictionaries/ascii/mmcif_pdbx.dic \n",
      "# \n",
      "loop_\n",
      "_database_2.database_id \n",
      "_database_2.database_code \n",
      "PDB   4LZA         \n",
      "RCSB  RCSB081269   \n",
      "WWPDB D_1000081269 \n",
      "# \n",
      "_pdbx_database_related.db_name        TargetTrack \n",
      "_pdbx_database_rela\n"
     ]
    }
   ],
   "source": [
    "pdb_file = get_pdb_file('4lza', filetype='cif', compression=False)\n",
    "print(pdb_file[:400])"
   ]
  },
  {
   "cell_type": "markdown",
   "metadata": {},
   "source": [
    "### Get a general description of the entry's metadata"
   ]
  },
  {
   "cell_type": "code",
   "execution_count": 15,
   "metadata": {},
   "outputs": [
    {
     "data": {
      "text/plain": [
       "{'structureId': '4LZA',\n",
       " 'title': 'Crystal structure of adenine phosphoribosyltransferase from Thermoanaerobacter pseudethanolicus ATCC 33223, NYSGRC Target 029700.',\n",
       " 'expMethod': 'X-RAY DIFFRACTION',\n",
       " 'resolution': '1.84',\n",
       " 'keywords': 'TRANSFERASE',\n",
       " 'nr_entities': '1',\n",
       " 'nr_residues': '390',\n",
       " 'nr_atoms': '2681',\n",
       " 'deposition_date': '2013-07-31',\n",
       " 'release_date': '2013-08-14',\n",
       " 'last_modification_date': '2013-08-14',\n",
       " 'structure_authors': 'Malashkevich, V.N., Bhosle, R., Toro, R., Hillerich, B., Gizzi, A., Garforth, S., Kar, A., Chan, M.K., Lafluer, J., Patel, H., Matikainen, B., Chamala, S., Lim, S., Celikgil, A., Villegas, G., Evans, B., Love, J., Fiser, A., Khafizov, K., Seidel, R., Bonanno, J.B., Almo, S.C., New York Structural Genomics Research Consortium (NYSGRC)',\n",
       " 'citation_authors': 'Malashkevich, V.N., Bhosle, R., Toro, R., Hillerich, B., Gizzi, A., Garforth, S., Kar, A., Chan, M.K., Lafluer, J., Patel, H., Matikainen, B., Chamala, S., Lim, S., Celikgil, A., Villegas, G., Evans, B., Love, J., Fiser, A., Khafizov, K., Seidel, R., Bonanno, J.B., Almo, S.C.',\n",
       " 'status': 'CURRENT'}"
      ]
     },
     "execution_count": 15,
     "metadata": {},
     "output_type": "execute_result"
    }
   ],
   "source": [
    "describe_pdb('4lza')"
   ]
  },
  {
   "cell_type": "markdown",
   "metadata": {},
   "source": [
    "### Get all of the information deposited in a PDB entry"
   ]
  },
  {
   "cell_type": "code",
   "execution_count": 16,
   "metadata": {},
   "outputs": [
    {
     "name": "stdout",
     "output_type": "stream",
     "text": [
      "{'polymer': {'@entityNr': '1', '@length': '195', '@type': 'protein', '@weight': '22023.7', 'chain': [{'@id': 'A'}, {'@id': 'B'}], 'Taxonomy': {'@name': 'Thermoanaerobacter pseudethanolicus', '@id': '496866'}, 'synonym': {'@name': 'APRT'}, 'macroMolecule': {'@name': 'Adenine phosphoribosyltransferase', 'accession': {'@id': 'B0K969'}}, 'polymerDescription': {'@description': 'Adenine phosphoribosyltransferase'}, 'enzClass': {'@ec': '2.4.2.7'}}, 'id': '4LZA'}\n"
     ]
    }
   ],
   "source": [
    "all_info = get_all_info('4lza')\n",
    "print(all_info)"
   ]
  },
  {
   "cell_type": "code",
   "execution_count": 17,
   "metadata": {},
   "outputs": [
    {
     "data": {
      "text/plain": [
       "{'@description': \"5'-D(*AP*GP*GP*TP*AP*GP*AP*CP*CP*TP*GP*GP*AP*CP*GP*C)-3'\"}"
      ]
     },
     "execution_count": 17,
     "metadata": {},
     "output_type": "execute_result"
    }
   ],
   "source": [
    "results = get_all_info('2F5N')\n",
    "first_polymer = results['polymer'][0]\n",
    "first_polymer['polymerDescription']"
   ]
  },
  {
   "cell_type": "markdown",
   "metadata": {
    "collapsed": true
   },
   "source": [
    "### Run a BLAST search on an entry"
   ]
  },
  {
   "cell_type": "markdown",
   "metadata": {},
   "source": [
    "There are several options here: One function, get_blast(), returns a dict() just like every other function. However, all the metadata associated with this function leads to deeply-nested dictionaries. A simpler function, get_blast2(), uses text parsing on the raw output page, and it returns a tuple consisting of 1. a ranked list of other PDB IDs that were hits, and 2. A list of the actual BLAST alignments and similarity scores."
   ]
  },
  {
   "cell_type": "code",
   "execution_count": 18,
   "metadata": {
    "scrolled": true
   },
   "outputs": [
    {
     "name": "stdout",
     "output_type": "stream",
     "text": [
      "PELPEVETVRRELEKRIVGQKIISIEATYPRMVL--TGFEQLKKELTGKTIQGISRRGKYLIFEIGDDFRLISHLRMEGKYRLATLDAPREKHDHLTMKFADG-QLIYADVRKFGTWELISTDQVLPYFLKKKIGPEPTYEDFDEKLFREKLRKSTKKIKPYLLEQTLVAGLGNIYVDEVLWLAKIHPEKETNQLIESSIHLLHDSIIEILQKAIKLGGSSIRTY-SALGSTGKMQNELQVYGKTGEKCSRCGAEIQKIKVAGRGTHFCPVCQQ\n"
     ]
    }
   ],
   "source": [
    "blast_results = get_blast('2F5N', chain_id='A')\n",
    "just_hits = blast_results['BlastOutput_iterations']['Iteration']['Iteration_hits']['Hit']\n",
    "print(just_hits[50]['Hit_hsps']['Hsp']['Hsp_hseq'])"
   ]
  },
  {
   "cell_type": "code",
   "execution_count": 19,
   "metadata": {
    "scrolled": true
   },
   "outputs": [
    {
     "name": "stdout",
     "output_type": "stream",
     "text": [
      "Total Results: 94\n",
      "\n",
      "<pre>\n",
      "&gt;<a name=\"45278\"></a>2F5P:3:A|pdbid|entity|chain(s)|sequence\n",
      "          Length = 274\n",
      "\n",
      " Score =  545 bits (1404), Expect = e-155,   Method: Composition-based stats.\n",
      " Identities = 274/274 (100%), Positives = 274/274 (100%)\n",
      "\n",
      "Query: 1   MPELPEVETIRRTLLPLIVGKTIEDVRIFWPNIIRHPRDSEAFAARMIGQTVRGLERRGK 60\n",
      "           MPELPEVETIRRTLLPLIVGKTIEDVRIFWPNIIRHPRDSEAFAARMIGQTVRGLERRGK\n",
      "Sbjct: 1   MPELPEVETIRRTLLPLIVGKTIEDVRIFWPNIIRHPRDSEAFAARMIGQTVRGLERRGK 60\n",
      "\n",
      "Query: 61  FLKFLLDRDALISHLRMEGRYAVASALEPLEPHTHVVFCFTDGSELRYRDVRKFGTMHVY 120\n",
      "           FLKFLLDRDALISHLRMEGRYAVASALEPLEPHTHVVFCFTDGSELRYRDVRKFGTMHVY\n",
      "Sbjct: 61  FLKFLLDRDALISHLRMEGRYAVASALEPLEPHTHVVFCFTDGSELRYRDVRKFGTMHVY 120\n",
      "\n",
      "Query: 121 AKEEADRRPPLAELGPEPLSPAFSPAVLAERAVKTKRSVKALLLDCTVVAGFGNIYVDES 180\n",
      "           AKEEADRRPPLAELGPEPLSPAFSPAVLAERAVKTKRSVKALLLDCTVVAGFGNIYVDES\n",
      "Sbjct: 121 AKEEADRRPPLAELGPEPLSPAFSPAVLAERAVKTKRSVKALLLDCTVVAGFGNIYVDES 180\n",
      "\n",
      "Query: 181 LFRAGILPGRPAASLSSKEIERLHEEMVATIGEAVMKGGSTVRTYVNTQGEAGTFQHHLY 240\n",
      "           LFRAGILPGRPAASLSSKEIERLHEEMVATIGEAVMKGGSTVRTYVNTQGEAGTFQHHLY\n",
      "Sbjct: 181 LFRAGILPGRPAASLSSKEIERLHEEMVATIGEAVMKGGSTVRTYVNTQGEAGTFQHHLY 240\n",
      "\n",
      "Query: 241 VYGRQGNPCKRCGTPIEKTVVAGRGTHYCPRCQR 274\n",
      "           VYGRQGNPCKRCGTPIEKTVVAGRGTHYCPRCQR\n",
      "Sbjct: 241 VYGRQGNPCKRCGTPIEKTVVAGRGTHYCPRCQR 274\n",
      "</pre>\n"
     ]
    }
   ],
   "source": [
    "blast_results = get_blast2('2F5N', chain_id='A', output_form='HTML')\n",
    "print('Total Results: ' + str(len(blast_results[0])) +'\\n')\n",
    "pprint.pprint(blast_results[1][0])"
   ]
  },
  {
   "cell_type": "markdown",
   "metadata": {},
   "source": [
    "### Get PFAM information about an entry"
   ]
  },
  {
   "cell_type": "code",
   "execution_count": 20,
   "metadata": {},
   "outputs": [
    {
     "name": "stdout",
     "output_type": "stream",
     "text": [
      "{'pfamHit': {'@structureId': '2LME', '@chainId': 'A', '@pdbResNumStart': '46', '@pdbResNumEnd': '105', '@pfamAcc': 'PF03895.14', '@pfamName': 'YadA_anchor', '@pfamDesc': 'YadA-like membrane anchor domain', '@eValue': '4.7E-16'}}\n"
     ]
    }
   ],
   "source": [
    "pfam_info = get_pfam('2LME')\n",
    "print(pfam_info)"
   ]
  },
  {
   "cell_type": "markdown",
   "metadata": {},
   "source": [
    "### Get chemical info"
   ]
  },
  {
   "cell_type": "markdown",
   "metadata": {},
   "source": [
    "This function takes the name of the chemical, not a PDB ID"
   ]
  },
  {
   "cell_type": "code",
   "execution_count": 21,
   "metadata": {},
   "outputs": [
    {
     "name": "stdout",
     "output_type": "stream",
     "text": [
      "{'describeHet': {'ligandInfo': {'ligand': {'@chemicalID': 'NAG',\n",
      "                                           '@molecularWeight': '221.208',\n",
      "                                           '@type': 'D-saccharide',\n",
      "                                           'InChI': 'InChI=1S/C8H15NO6/c1-3(11)9-5-7(13)6(12)4(2-10)15-8(5)14/h4-8,10,12-14H,2H2,1H3,(H,9,11)/t4-,5-,6-,7-,8-/m1/s1',\n",
      "                                           'InChIKey': 'OVRNDRQMDRJTHS-FMDGEEDCSA-N',\n",
      "                                           'chemicalName': 'N-ACETYL-D-GLUCOSAMINE',\n",
      "                                           'formula': 'C8 H15 N O6',\n",
      "                                           'smiles': 'CC(=O)N[C@@H]1[C@H]([C@@H]([C@H](O[C@H]1O)CO)O)O'}}}}\n"
     ]
    }
   ],
   "source": [
    "chem_desc = describe_chemical('NAG')\n",
    "pprint.pprint(chem_desc)"
   ]
  },
  {
   "cell_type": "markdown",
   "metadata": {},
   "source": [
    "### Get ligand info if present\n"
   ]
  },
  {
   "cell_type": "code",
   "execution_count": 22,
   "metadata": {},
   "outputs": [
    {
     "name": "stdout",
     "output_type": "stream",
     "text": [
      "{'id': '100D',\n",
      " 'ligandInfo': {'ligand': {'@chemicalID': 'SPM',\n",
      "                           '@molecularWeight': '202.34',\n",
      "                           '@structureId': '100D',\n",
      "                           '@type': 'non-polymer',\n",
      "                           'InChI': 'InChI=1S/C10H26N4/c11-5-3-9-13-7-1-2-8-14-10-4-6-12/h13-14H,1-12H2',\n",
      "                           'InChIKey': 'PFNFFQXMRSDOHW-UHFFFAOYSA-N',\n",
      "                           'chemicalName': 'SPERMINE',\n",
      "                           'formula': 'C10 H26 N4',\n",
      "                           'smiles': 'C(CCNCCCN)CNCCCN'}}}\n"
     ]
    }
   ],
   "source": [
    "ligand_dict = get_ligands('100D')\n",
    "pprint.pprint(ligand_dict)"
   ]
  },
  {
   "cell_type": "markdown",
   "metadata": {},
   "source": [
    "### Get gene ontology info"
   ]
  },
  {
   "cell_type": "code",
   "execution_count": 23,
   "metadata": {},
   "outputs": [
    {
     "name": "stdout",
     "output_type": "stream",
     "text": [
      "{'@chainId': 'A',\n",
      " '@id': 'GO:0001516',\n",
      " '@structureId': '4Z0L',\n",
      " 'detail': {'@definition': 'The chemical reactions and pathways resulting in '\n",
      "                           'the formation of prostaglandins, any of a group of '\n",
      "                           'biologically active metabolites which contain a '\n",
      "                           'cyclopentane ring.',\n",
      "            '@name': 'prostaglandin biosynthetic process',\n",
      "            '@ontology': 'B',\n",
      "            '@synonyms': 'prostaglandin anabolism, prostaglandin biosynthesis, '\n",
      "                         'prostaglandin formation, prostaglandin synthesis'}}\n"
     ]
    }
   ],
   "source": [
    "gene_info = get_gene_onto('4Z0L ')\n",
    "pprint.pprint(gene_info['term'][0])"
   ]
  },
  {
   "cell_type": "markdown",
   "metadata": {
    "collapsed": true
   },
   "source": [
    "### Get sequence clusters by chain"
   ]
  },
  {
   "cell_type": "code",
   "execution_count": 24,
   "metadata": {},
   "outputs": [
    {
     "name": "stdout",
     "output_type": "stream",
     "text": [
      "[{'@name': '6FL1.A', '@rank': '1'},\n",
      " {'@name': '4PD2.A', '@rank': '2'},\n",
      " {'@name': '3U6P.A', '@rank': '3'},\n",
      " {'@name': '4PCZ.A', '@rank': '4'},\n",
      " {'@name': '3GPU.A', '@rank': '5'},\n",
      " {'@name': '3JR5.A', '@rank': '6'},\n",
      " {'@name': '3SAU.A', '@rank': '7'},\n",
      " {'@name': '3GQ4.A', '@rank': '8'},\n",
      " {'@name': '1R2Z.A', '@rank': '9'},\n",
      " {'@name': '3U6E.A', '@rank': '10'}]\n"
     ]
    }
   ],
   "source": [
    "sclust = get_seq_cluster('2F5N.A')\n",
    "pprint.pprint(sclust['pdbChain'][:10]) # Just look at the top 10"
   ]
  },
  {
   "cell_type": "markdown",
   "metadata": {},
   "source": [
    "### Get the representative for a chain"
   ]
  },
  {
   "cell_type": "code",
   "execution_count": 25,
   "metadata": {},
   "outputs": [
    {
     "name": "stdout",
     "output_type": "stream",
     "text": [
      "{'pdbChain': {'@name': '2W72.A'}}\n"
     ]
    }
   ],
   "source": [
    "clusts = get_clusters('4hhb.A')\n",
    "print(clusts)"
   ]
  },
  {
   "cell_type": "markdown",
   "metadata": {},
   "source": [
    "### List all taxa associated with a list of IDs"
   ]
  },
  {
   "cell_type": "code",
   "execution_count": 26,
   "metadata": {},
   "outputs": [
    {
     "name": "stdout",
     "output_type": "stream",
     "text": [
      "['Thermus thermophilus',\n",
      " 'Saccharolobus solfataricus',\n",
      " 'Hyperthermus butylicus',\n",
      " 'Pseudomonas phage JBD30',\n",
      " 'Saccharolobus solfataricus',\n",
      " 'Pseudomonas aeruginosa',\n",
      " 'Pseudomonas aeruginosa',\n",
      " 'Pseudomonas aeruginosa',\n",
      " 'Saccharolobus solfataricus',\n",
      " 'Thermus thermophilus']\n"
     ]
    }
   ],
   "source": [
    "crispr_query = make_query('crispr')\n",
    "crispr_results = do_search(crispr_query)\n",
    "pprint.pprint(list_taxa(crispr_results[:10]))"
   ]
  },
  {
   "cell_type": "markdown",
   "metadata": {
    "collapsed": true
   },
   "source": [
    "### List data types with a list of IDs"
   ]
  },
  {
   "cell_type": "code",
   "execution_count": 27,
   "metadata": {},
   "outputs": [
    {
     "name": "stdout",
     "output_type": "stream",
     "text": [
      "['protein',\n",
      " 'protein',\n",
      " 'protein',\n",
      " 'protein',\n",
      " 'protein',\n",
      " 'rna',\n",
      " 'rna',\n",
      " 'rna',\n",
      " 'protein',\n",
      " 'rna',\n",
      " 'rna',\n",
      " 'rna',\n",
      " 'protein',\n",
      " 'protein',\n",
      " 'protein',\n",
      " 'protein',\n",
      " 'protein',\n",
      " 'protein',\n",
      " 'rna',\n",
      " 'protein']\n"
     ]
    }
   ],
   "source": [
    "crispr_query = make_query('crispr')\n",
    "crispr_results = do_search(crispr_query)\n",
    "pprint.pprint(list_types(crispr_results[:20]))"
   ]
  },
  {
   "cell_type": "code",
   "execution_count": null,
   "metadata": {},
   "outputs": [],
   "source": []
  }
 ],
 "metadata": {
  "kernelspec": {
   "display_name": "Python 3",
   "language": "python",
   "name": "python3"
  },
  "language_info": {
   "codemirror_mode": {
    "name": "ipython",
    "version": 3
   },
   "file_extension": ".py",
   "mimetype": "text/x-python",
   "name": "python",
   "nbconvert_exporter": "python",
   "pygments_lexer": "ipython3",
   "version": "3.7.2"
  }
 },
 "nbformat": 4,
 "nbformat_minor": 1
}
